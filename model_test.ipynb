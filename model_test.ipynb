{
 "cells": [
  {
   "cell_type": "code",
   "execution_count": 2,
   "id": "8b37870f-c674-4aca-95be-b55e76057177",
   "metadata": {},
   "outputs": [
    {
     "name": "stdout",
     "output_type": "stream",
     "text": [
      "2.7.1+cpu\n"
     ]
    }
   ],
   "source": [
    "import torch\n",
    "print(torch.__version__)\n"
   ]
  },
  {
   "cell_type": "code",
   "execution_count": 3,
   "id": "e72e3732-4fe3-46fc-b29e-8c42ab8db74c",
   "metadata": {},
   "outputs": [
    {
     "name": "stdout",
     "output_type": "stream",
     "text": [
      "🔧 Initializing SimpleCNN...\n",
      "🎬 Starting training loop...\n",
      "🧠 Epoch 1/5 - Loss: 2.1991\n",
      "🧠 Epoch 2/5 - Loss: 0.0000\n",
      "🧠 Epoch 3/5 - Loss: 0.0000\n",
      "🧠 Epoch 4/5 - Loss: 0.0000\n",
      "🧠 Epoch 5/5 - Loss: 0.0000\n",
      "✅ Model weights saved to: model/cnn_model.pth\n"
     ]
    }
   ],
   "source": [
    "from scripts.train_model import train_and_save\n",
    "train_and_save()\n"
   ]
  },
  {
   "cell_type": "code",
   "execution_count": 4,
   "id": "6e29eb04-86d5-4ced-811b-799113c7b213",
   "metadata": {},
   "outputs": [
    {
     "name": "stderr",
     "output_type": "stream",
     "text": [
      "Traceback (most recent call last):\n",
      "  File \"C:\\Users\\darta\\AppData\\Local\\Programs\\Python\\Python312\\Lib\\site-packages\\torch\\onnx\\_internal\\onnx_proto_utils.py\", line 182, in _add_onnxscript_fn\n",
      "    import onnx\n",
      "ModuleNotFoundError: No module named 'onnx'\n",
      "\n",
      "The above exception was the direct cause of the following exception:\n",
      "\n",
      "Traceback (most recent call last):\n",
      "  File \"C:\\Users\\darta\\PycharmProjects\\PythonProject3\\ai_deployment_day17\\scripts\\convert_to_onnx.py\", line 60, in <module>\n",
      "    convert_to_onnx(args.model_path, args.output_path)\n",
      "  File \"C:\\Users\\darta\\PycharmProjects\\PythonProject3\\ai_deployment_day17\\scripts\\convert_to_onnx.py\", line 41, in convert_to_onnx\n",
      "    torch.onnx.export(\n",
      "  File \"C:\\Users\\darta\\AppData\\Local\\Programs\\Python\\Python312\\Lib\\site-packages\\torch\\onnx\\__init__.py\", line 396, in export\n",
      "    export(\n",
      "  File \"C:\\Users\\darta\\AppData\\Local\\Programs\\Python\\Python312\\Lib\\site-packages\\torch\\onnx\\utils.py\", line 529, in export\n",
      "    _export(\n",
      "  File \"C:\\Users\\darta\\AppData\\Local\\Programs\\Python\\Python312\\Lib\\site-packages\\torch\\onnx\\utils.py\", line 1540, in _export\n",
      "    proto = onnx_proto_utils._add_onnxscript_fn(\n",
      "            ^^^^^^^^^^^^^^^^^^^^^^^^^^^^^^^^^^^^\n",
      "  File \"C:\\Users\\darta\\AppData\\Local\\Programs\\Python\\Python312\\Lib\\site-packages\\torch\\onnx\\_internal\\onnx_proto_utils.py\", line 184, in _add_onnxscript_fn\n",
      "    raise errors.OnnxExporterError(\"Module onnx is not installed!\") from e\n",
      "torch.onnx.OnnxExporterError: Module onnx is not installed!\n"
     ]
    }
   ],
   "source": [
    "!python scripts/convert_to_onnx.py --model_path model/cnn_model.pth --output_path model/onnx_model.onnx\n"
   ]
  }
 ],
 "metadata": {
  "kernelspec": {
   "display_name": "Python (AI Day 17 VENV)",
   "language": "python",
   "name": "ai_day17_venv"
  },
  "language_info": {
   "codemirror_mode": {
    "name": "ipython",
    "version": 3
   },
   "file_extension": ".py",
   "mimetype": "text/x-python",
   "name": "python",
   "nbconvert_exporter": "python",
   "pygments_lexer": "ipython3",
   "version": "3.12.7"
  }
 },
 "nbformat": 4,
 "nbformat_minor": 5
}
